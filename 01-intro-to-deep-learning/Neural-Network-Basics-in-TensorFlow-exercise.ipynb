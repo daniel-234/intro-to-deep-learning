{
 "cells": [
  {
   "cell_type": "markdown",
   "id": "homeless-sight",
   "metadata": {},
   "source": [
    "## The Exercise\n",
    "\n",
    "You will build a few neural networks during this exercise, for all the networks you build you should:\n",
    "\n",
    "* Build a network for classification using the built in MNIST dataset.\n",
    "* Use the sigmoid activation function.\n",
    "* Use the categorical cross entropy loss function.\n",
    "* Use stochastic gradient descent as the optimizer.\n",
    "* Train for at least 10 epochs.\n",
    "* Plot a chart with your network's performance on training and validation data during training.\n",
    "\n",
    "### Part One:\n",
    "\n",
    "Use Tensorflow to build a network with a single hidden layer and at least 300,000 trainable parameters. Answer the following questions about this model:\n",
    "\n",
    "* How many total trainable parameters does this model have?\n",
    "  * How many weights?\n",
    "  * How many biases?\n",
    "* How accurate was this model on the validation data after 10 epochs?\n",
    "  * How different was the model's performance on the training data?\n",
    "  * How different was the model's performance on the test data?\n",
    "* About how long did each epoch take?\n",
    "\n",
    "Use Tensorflow to build a network with a single hidden layer at fewer than 50,000 trainable parameters, then answer the same questions."
   ]
  },
  {
   "cell_type": "code",
   "execution_count": 1,
   "id": "balanced-tragedy",
   "metadata": {},
   "outputs": [],
   "source": [
    "# Imports and formatting the data\n",
    "# See previous Notebooks if this is confusing\n",
    "from matplotlib import pyplot as plt\n",
    "from tensorflow.keras.datasets import mnist\n",
    "from tensorflow.keras.models import Sequential\n",
    "from tensorflow.keras.layers import Dense\n",
    "from tensorflow.keras.utils import to_categorical\n",
    "\n",
    "# Define the number of classes to create 1-hot encoded vectors using to_categorical\n",
    "num_classes = 10 \n",
    "# 28 x 28 = 784, because that's the dimensions of the MNIST data.\n",
    "image_size = 784\n",
    "\n",
    "(training_images, training_labels), (test_images, test_labels) = mnist.load_data()\n",
    "# training_images.shape[0] is the list length, hence 60,000.\n",
    "# training_images.shape[1] is the image shape, hence (28, 28).\n",
    "training_data = training_images.reshape(training_images.shape[0], image_size) \n",
    "test_data = test_images.reshape(test_images.shape[0], image_size)\n",
    "\n",
    "# to_categorical takes a list of integers (our labels) and makes them into 1-hot vectors\n",
    "training_labels = to_categorical(training_labels, num_classes)\n",
    "test_labels = to_categorical(test_labels, num_classes)\n",
    "\n",
    "# A helpful function we'll be using all over the place to plot training information:\n",
    "def plot_training_history(history, model):\n",
    "    plt.plot(history.history['accuracy'])\n",
    "    plt.plot(history.history['val_accuracy'])\n",
    "    plt.title('model accuracy')\n",
    "    plt.ylabel('accuracy')\n",
    "    plt.xlabel('epoch')\n",
    "    plt.legend(['training', 'validation'], loc='best')\n",
    "\n",
    "    plt.show()\n",
    "\n",
    "    plt.plot(history.history['loss'])\n",
    "    plt.plot(history.history['val_loss'])\n",
    "    plt.title('model loss')\n",
    "    plt.ylabel('loss')\n",
    "    plt.xlabel('epoch')\n",
    "    plt.legend(['training', 'validation'], loc='best')\n",
    "\n",
    "    plt.show()\n",
    "    \n",
    "    loss, accuracy  = model.evaluate(test_data, test_labels, verbose=False)\n",
    "    print(f'Test loss: {loss:.3}')\n",
    "    print(f'Test accuracy: {accuracy:.3}')"
   ]
  },
  {
   "cell_type": "markdown",
   "id": "collectible-lyric",
   "metadata": {},
   "source": [
    "###### Build a network with a single hidden layer and at least 300,000 trainable parameters."
   ]
  },
  {
   "cell_type": "code",
   "execution_count": 2,
   "id": "painful-drunk",
   "metadata": {},
   "outputs": [
    {
     "name": "stdout",
     "output_type": "stream",
     "text": [
      "Model: \"sequential\"\n",
      "_________________________________________________________________\n",
      "Layer (type)                 Output Shape              Param #   \n",
      "=================================================================\n",
      "dense (Dense)                (None, 400)               314000    \n",
      "_________________________________________________________________\n",
      "dense_1 (Dense)              (None, 10)                4010      \n",
      "=================================================================\n",
      "Total params: 318,010\n",
      "Trainable params: 318,010\n",
      "Non-trainable params: 0\n",
      "_________________________________________________________________\n",
      "Epoch 1/10\n",
      "422/422 [==============================] - 2s 5ms/step - loss: 1.1938 - accuracy: 0.6634 - val_loss: 0.4015 - val_accuracy: 0.9047\n",
      "Epoch 2/10\n",
      "422/422 [==============================] - 2s 4ms/step - loss: 0.4289 - accuracy: 0.8930 - val_loss: 0.3025 - val_accuracy: 0.9243\n",
      "Epoch 3/10\n",
      "422/422 [==============================] - 2s 4ms/step - loss: 0.3392 - accuracy: 0.9094 - val_loss: 0.2618 - val_accuracy: 0.9313\n",
      "Epoch 4/10\n",
      "422/422 [==============================] - 2s 4ms/step - loss: 0.2986 - accuracy: 0.9202 - val_loss: 0.2358 - val_accuracy: 0.9382\n",
      "Epoch 5/10\n",
      "422/422 [==============================] - 2s 4ms/step - loss: 0.2663 - accuracy: 0.9275 - val_loss: 0.2173 - val_accuracy: 0.9417\n",
      "Epoch 6/10\n",
      "422/422 [==============================] - 2s 4ms/step - loss: 0.2420 - accuracy: 0.9337 - val_loss: 0.2050 - val_accuracy: 0.9455\n",
      "Epoch 7/10\n",
      "422/422 [==============================] - 2s 4ms/step - loss: 0.2264 - accuracy: 0.9397 - val_loss: 0.1945 - val_accuracy: 0.9492\n",
      "Epoch 8/10\n",
      "422/422 [==============================] - 2s 4ms/step - loss: 0.2098 - accuracy: 0.9441 - val_loss: 0.1858 - val_accuracy: 0.9510\n",
      "Epoch 9/10\n",
      "422/422 [==============================] - 2s 4ms/step - loss: 0.1985 - accuracy: 0.9483 - val_loss: 0.1766 - val_accuracy: 0.9535\n",
      "Epoch 10/10\n",
      "422/422 [==============================] - 2s 4ms/step - loss: 0.1863 - accuracy: 0.9509 - val_loss: 0.1690 - val_accuracy: 0.9557\n"
     ]
    },
    {
     "data": {
      "image/png": "[encoded data removed]",
      "text/plain": [
       "<Figure size 432x288 with 1 Axes>"
      ]
     },
     "metadata": {
      "needs_background": "light"
     },
     "output_type": "display_data"
    },
    {
     "data": {
      "image/png": "[encoded data removed]",
      "text/plain": [
       "<Figure size 432x288 with 1 Axes>"
      ]
     },
     "metadata": {
      "needs_background": "light"
     },
     "output_type": "display_data"
    },
    {
     "name": "stdout",
     "output_type": "stream",
     "text": [
      "Test loss: 0.201\n",
      "Test accuracy: 0.942\n"
     ]
    }
   ],
   "source": [
    "single_layer_model = Sequential()\n",
    "\n",
    "# Here I've chosen a hidden layer with 400 nodes to have more than 300,000 parameters. \n",
    "single_layer_model.add(Dense(units=400, activation='sigmoid', input_shape=(image_size,)))\n",
    "single_layer_model.add(Dense(units=num_classes, activation='softmax'))\n",
    "single_layer_model.summary()\n",
    "\n",
    "single_layer_model.compile(optimizer=\"sgd\", loss='categorical_crossentropy', metrics=['accuracy'])\n",
    "history = single_layer_model.fit(training_data, training_labels, batch_size=128, epochs=10, verbose=True, validation_split=.1)\n",
    "plot_training_history(history, single_layer_model)"
   ]
  },
  {
   "cell_type": "markdown",
   "id": "physical-wells",
   "metadata": {},
   "source": [
    "Answer the following questions about this model:\n",
    "\n",
    "* How many total trainable parameters does this model have? This model has 314000 trainable parameters. \n",
    "  * How many weights? The number of weights of the hidden layer is equal to the number of inputs, that is 784. \n",
    "  * How many biases? Each node in the hidden layer has a bias, so there are 400 biases. \n",
    "* How accurate was this model on the validation data after 10 epochs? The accuracy on the validation data was 0.9557 after 10 epochs. \n",
    "  * How different was the model's performance on the training data? The accuracy on the training data was 0.9509. \n",
    "  * How different was the model's performance on the test data? The accuracy on the test data was 0.942. \n",
    "* About how long did each epoch take? Each epoch took 2 seconds. "
   ]
  },
  {
   "cell_type": "code",
   "execution_count": null,
   "id": "annoying-worst",
   "metadata": {},
   "outputs": [],
   "source": []
  }
 ],
 "metadata": {
  "kernelspec": {
   "display_name": "Python 3",
   "language": "python",
   "name": "python3"
  },
  "language_info": {
   "codemirror_mode": {
    "name": "ipython",
    "version": 3
   },
   "file_extension": ".py",
   "mimetype": "text/x-python",
   "name": "python",
   "nbconvert_exporter": "python",
   "pygments_lexer": "ipython3",
   "version": "3.8.6"
  }
 },
 "nbformat": 4,
 "nbformat_minor": 5
}
